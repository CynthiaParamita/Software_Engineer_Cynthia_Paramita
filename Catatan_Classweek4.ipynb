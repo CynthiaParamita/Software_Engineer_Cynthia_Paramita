{
  "nbformat": 4,
  "nbformat_minor": 0,
  "metadata": {
    "colab": {
      "name": "Catatan_Classweek4.ipynb",
      "provenance": [],
      "collapsed_sections": [],
      "authorship_tag": "ABX9TyPOBHXSkpJuVGPDjYtWiS9v",
      "include_colab_link": true
    },
    "kernelspec": {
      "name": "python3",
      "display_name": "Python 3"
    },
    "language_info": {
      "name": "python"
    }
  },
  "cells": [
    {
      "cell_type": "markdown",
      "metadata": {
        "id": "view-in-github",
        "colab_type": "text"
      },
      "source": [
        "<a href=\"https://colab.research.google.com/github/CynthiaParamita/Software_Engineering_Cynthia_Paramita/blob/main/Catatan_Classweek4.ipynb\" target=\"_parent\"><img src=\"https://colab.research.google.com/assets/colab-badge.svg\" alt=\"Open In Colab\"/></a>"
      ]
    },
    {
      "cell_type": "code",
      "metadata": {
        "id": "hramZdcKcumI",
        "colab": {
          "base_uri": "https://localhost:8080/"
        },
        "outputId": "cf8f9175-d2c7-4d13-85c0-9da902c3502d"
      },
      "source": [
        "# Method List\n",
        "# Medthod Dictionary\n",
        "# tuple\n",
        "# set\n",
        "# loop\n",
        "# function"
      ],
      "execution_count": null,
      "outputs": [
        {
          "output_type": "stream",
          "name": "stdout",
          "text": [
            "1\n"
          ]
        }
      ]
    },
    {
      "cell_type": "code",
      "metadata": {
        "colab": {
          "base_uri": "https://localhost:8080/"
        },
        "id": "Ofa7aMtboF5z",
        "outputId": "0db2ad7c-abea-4872-b65e-89b7da2eba16"
      },
      "source": [
        "contoh_list=[\"Alvin\",12,12.0,True,[],{},(),False]\n",
        "print(contoh_list[0])\n",
        "print(contoh_list[1])\n",
        "print(contoh_list[-1])"
      ],
      "execution_count": null,
      "outputs": [
        {
          "output_type": "stream",
          "name": "stdout",
          "text": [
            "Alvin\n",
            "12\n",
            "False\n"
          ]
        }
      ]
    },
    {
      "cell_type": "code",
      "metadata": {
        "colab": {
          "base_uri": "https://localhost:8080/"
        },
        "id": "UJaM9UTMovrD",
        "outputId": "1da75d00-f646-4ac9-fa30-584b786c59d5"
      },
      "source": [
        "contoh_dict={2:\"Alvin\", \"dua\":2,False:13.4,3:[\"a\",\"b\",\"c\"]}\n",
        "print(contoh_dict[2])\n"
      ],
      "execution_count": null,
      "outputs": [
        {
          "output_type": "stream",
          "name": "stdout",
          "text": [
            "Alvin\n"
          ]
        }
      ]
    },
    {
      "cell_type": "markdown",
      "metadata": {
        "id": "mCnNyn8UrYDU"
      },
      "source": [
        ""
      ]
    },
    {
      "cell_type": "code",
      "metadata": {
        "id": "9h126sUdovuH"
      },
      "source": [
        "# method list\n",
        "list_angka=[1,4,3,5,7]\n",
        "list_angka.sort()\n",
        "list_angka.sort(reverse=True)"
      ],
      "execution_count": null,
      "outputs": []
    },
    {
      "cell_type": "code",
      "metadata": {
        "colab": {
          "base_uri": "https://localhost:8080/"
        },
        "id": "3XgY8rCXplYE",
        "outputId": "a14acdae-2eb0-4029-d8be-d7cd8172d3ff"
      },
      "source": [
        "list_angka"
      ],
      "execution_count": null,
      "outputs": [
        {
          "output_type": "execute_result",
          "data": {
            "text/plain": [
              "[7, 5, 4, 3, 1]"
            ]
          },
          "metadata": {},
          "execution_count": 5
        }
      ]
    },
    {
      "cell_type": "code",
      "metadata": {
        "id": "0VQCErpzppdw",
        "colab": {
          "base_uri": "https://localhost:8080/"
        },
        "outputId": "70c5bfa5-2bb9-4686-d187-346f0a97543d"
      },
      "source": [
        "menu=\"n\"\n",
        "list_angka.append(menu)# index terakhir\n",
        "list_angka"
      ],
      "execution_count": null,
      "outputs": [
        {
          "output_type": "execute_result",
          "data": {
            "text/plain": [
              "[7, 4, 'tengah', 1, 'n']"
            ]
          },
          "metadata": {},
          "execution_count": 49
        }
      ]
    },
    {
      "cell_type": "code",
      "metadata": {
        "colab": {
          "base_uri": "https://localhost:8080/"
        },
        "id": "uYBekr6Bp0W4",
        "outputId": "80f82606-20e7-43e9-c399-d6d3c2517b57"
      },
      "source": [
        "list_angka.insert(3,\"tengah\")# sesuai index(index,isi)\n",
        "list_angka"
      ],
      "execution_count": null,
      "outputs": [
        {
          "output_type": "execute_result",
          "data": {
            "text/plain": [
              "[7, 5, 4, 'tengah', 3, 1, 'ABC']"
            ]
          },
          "metadata": {},
          "execution_count": 7
        }
      ]
    },
    {
      "cell_type": "code",
      "metadata": {
        "colab": {
          "base_uri": "https://localhost:8080/"
        },
        "id": "N1UngcYSqB_5",
        "outputId": "5896f579-397c-412c-e18f-c5769ef589de"
      },
      "source": [
        "list_angka.pop()# hilang yang terakhir\n",
        "list_angka"
      ],
      "execution_count": null,
      "outputs": [
        {
          "output_type": "execute_result",
          "data": {
            "text/plain": [
              "[7, 5, 4, 'tengah', 3, 1]"
            ]
          },
          "metadata": {},
          "execution_count": 8
        }
      ]
    },
    {
      "cell_type": "code",
      "metadata": {
        "colab": {
          "base_uri": "https://localhost:8080/"
        },
        "id": "fb0aEgCSqNHB",
        "outputId": "9b9f8e4b-c5aa-46b4-a756-e4f6ba69f3fd"
      },
      "source": [
        "list_angka.remove(5)# hilang in isi, jika lebih dari 1 yang hilang index yang kecil\n",
        "list_angka"
      ],
      "execution_count": null,
      "outputs": [
        {
          "output_type": "execute_result",
          "data": {
            "text/plain": [
              "[7, 4, 'tengah', 3, 1]"
            ]
          },
          "metadata": {},
          "execution_count": 9
        }
      ]
    },
    {
      "cell_type": "code",
      "metadata": {
        "colab": {
          "base_uri": "https://localhost:8080/"
        },
        "id": "mzoAYI8jqXMp",
        "outputId": "0ed07c73-61ea-4986-9307-6c3dd8398147"
      },
      "source": [
        "list_angka.remove(list_angka[-2])# hilang sesuai index?\n",
        "list_angka"
      ],
      "execution_count": null,
      "outputs": [
        {
          "output_type": "execute_result",
          "data": {
            "text/plain": [
              "[7, 4, 'tengah', 1]"
            ]
          },
          "metadata": {},
          "execution_count": 10
        }
      ]
    },
    {
      "cell_type": "code",
      "metadata": {
        "id": "bPdGQ2tKqfV3"
      },
      "source": [
        "# method dic\n",
        "contoh_dict={2:\"Alvin\", \"dua\":2,False:13.4,3:[\"a\",\"b\",\"c\"]}"
      ],
      "execution_count": null,
      "outputs": []
    },
    {
      "cell_type": "code",
      "metadata": {
        "colab": {
          "base_uri": "https://localhost:8080/"
        },
        "id": "XAMLXf0ArbUc",
        "outputId": "bf824a0d-dff0-4abe-d497-fcb3bb5778b8"
      },
      "source": [
        "contoh_dict[\"Buah\"]=\"Apel\"# insert new item\n",
        "print(contoh_dict)"
      ],
      "execution_count": null,
      "outputs": [
        {
          "output_type": "stream",
          "name": "stdout",
          "text": [
            "{2: 'Alvin', 'dua': 2, False: 13.4, 3: ['a', 'b', 'c'], 'Buah': 'Apel'}\n"
          ]
        }
      ]
    },
    {
      "cell_type": "code",
      "metadata": {
        "colab": {
          "base_uri": "https://localhost:8080/"
        },
        "id": "IvCOyQ6Tryrc",
        "outputId": "f0f574cd-440f-41e6-a29d-e7f4208398a6"
      },
      "source": [
        "contoh_dict[\"Negara\"]=[\"Japan\"]# more than 1 item for 1 keyword\n",
        "contoh_dict['Negara'].append(\"italy\")\n",
        "print(contoh_dict)"
      ],
      "execution_count": null,
      "outputs": [
        {
          "output_type": "stream",
          "name": "stdout",
          "text": [
            "{2: 'Alvin', 'dua': 2, False: 13.4, 3: ['a', 'b', 'c'], 'Buah': 'Apel', 'Negara': ['Japan', 'italy']}\n"
          ]
        }
      ]
    },
    {
      "cell_type": "code",
      "metadata": {
        "id": "e-kXnFXQsOXp"
      },
      "source": [
        "capital={}"
      ],
      "execution_count": null,
      "outputs": []
    },
    {
      "cell_type": "code",
      "metadata": {
        "colab": {
          "base_uri": "https://localhost:8080/"
        },
        "id": "9DDH64K-skKo",
        "outputId": "e871ca8a-6475-4017-a6c1-d9c3fb6834ef"
      },
      "source": [
        "contoh_dict['Negara'].extend((\"france\",\"england\"))\n",
        "print(contoh_dict)"
      ],
      "execution_count": null,
      "outputs": [
        {
          "output_type": "stream",
          "name": "stdout",
          "text": [
            "{2: 'Alvin', 'dua': 2, False: 13.4, 3: ['a', 'b', 'c'], 'Buah': 'Apel', 'Negara': ['Japan', 'italy', 'france', 'england', 'france', 'england']}\n"
          ]
        }
      ]
    },
    {
      "cell_type": "code",
      "metadata": {
        "colab": {
          "base_uri": "https://localhost:8080/"
        },
        "id": "9vwVgtowt1-M",
        "outputId": "34f6295a-caff-45d2-d044-bbe10e29a7c2"
      },
      "source": [
        "# Tuple\n",
        "contoh_tuple=(1,3,5,7,9,11)# fix value can't be change\n",
        "contoh_tuple"
      ],
      "execution_count": null,
      "outputs": [
        {
          "output_type": "execute_result",
          "data": {
            "text/plain": [
              "(1, 3, 5, 7, 9, 11)"
            ]
          },
          "metadata": {},
          "execution_count": 19
        }
      ]
    },
    {
      "cell_type": "code",
      "metadata": {
        "colab": {
          "base_uri": "https://localhost:8080/"
        },
        "id": "tULm4FqyuFDB",
        "outputId": "6ae26900-b44f-451f-fab5-0a16f9a9e2b1"
      },
      "source": [
        "contoh_tuple[0]"
      ],
      "execution_count": null,
      "outputs": [
        {
          "output_type": "execute_result",
          "data": {
            "text/plain": [
              "1"
            ]
          },
          "metadata": {},
          "execution_count": 20
        }
      ]
    },
    {
      "cell_type": "code",
      "metadata": {
        "colab": {
          "base_uri": "https://localhost:8080/"
        },
        "id": "_OwCm6TmuPr0",
        "outputId": "5ef78cdf-1bda-4087-92a3-90472fd82521"
      },
      "source": [
        "#set cant be duplicate, automaticly sorted, cant be called by index\n",
        "contoh_set=set([1,2,3,4,5,\"ABC\",\"abc\",1])\n",
        "contoh_set"
      ],
      "execution_count": null,
      "outputs": [
        {
          "output_type": "execute_result",
          "data": {
            "text/plain": [
              "{1, 2, 3, 4, 5, 'ABC', 'abc'}"
            ]
          },
          "metadata": {},
          "execution_count": 21
        }
      ]
    },
    {
      "cell_type": "code",
      "metadata": {
        "id": "1gPKu0qnu12m"
      },
      "source": [
        "# casting\n",
        "contoh_list1=list(contoh_set)"
      ],
      "execution_count": null,
      "outputs": []
    },
    {
      "cell_type": "code",
      "metadata": {
        "colab": {
          "base_uri": "https://localhost:8080/",
          "height": 35
        },
        "id": "pb8PjoGXu9bu",
        "outputId": "94af7b5f-4715-4389-8961-d665aeebee27"
      },
      "source": [
        "contoh_list1\n",
        "contoh_list1[-1]"
      ],
      "execution_count": null,
      "outputs": [
        {
          "output_type": "execute_result",
          "data": {
            "application/vnd.google.colaboratory.intrinsic+json": {
              "type": "string"
            },
            "text/plain": [
              "'abc'"
            ]
          },
          "metadata": {},
          "execution_count": 24
        }
      ]
    },
    {
      "cell_type": "code",
      "metadata": {
        "colab": {
          "base_uri": "https://localhost:8080/"
        },
        "id": "Xz5JGJIDu9jo",
        "outputId": "e45c78d4-4bc5-4608-8bad-28d80a764be5"
      },
      "source": [
        "#casting list to tuple\n",
        "contoh_tuple1=tuple(contoh_list1)\n",
        "contoh_tuple1"
      ],
      "execution_count": null,
      "outputs": [
        {
          "output_type": "execute_result",
          "data": {
            "text/plain": [
              "(1, 2, 3, 4, 5, 'ABC', 'abc')"
            ]
          },
          "metadata": {},
          "execution_count": 25
        }
      ]
    },
    {
      "cell_type": "code",
      "metadata": {
        "id": "xiFtKJYjwJ38"
      },
      "source": [
        "sorted(tuple)# to sort tuple , one type\n",
        "help()# to know about the syntax"
      ],
      "execution_count": null,
      "outputs": []
    },
    {
      "cell_type": "code",
      "metadata": {
        "colab": {
          "base_uri": "https://localhost:8080/"
        },
        "id": "BIHnYwmqwcYR",
        "outputId": "18fbc6e9-5a93-46bc-a919-53f26ffbcedd"
      },
      "source": [
        "# operator\n",
        "a=15\n",
        "b=2\n",
        "c=196\n",
        "a+b\n",
        "a-b\n",
        "a*b\n",
        "a/b# float 7.5\n",
        "a//b#integer diff 7 bottom\n",
        "a**b\n",
        "a%b \n",
        "c**0.5"
      ],
      "execution_count": null,
      "outputs": [
        {
          "output_type": "execute_result",
          "data": {
            "text/plain": [
              "14.0"
            ]
          },
          "metadata": {},
          "execution_count": 29
        }
      ]
    },
    {
      "cell_type": "code",
      "metadata": {
        "id": "vkl7LI0QxYKh"
      },
      "source": [
        "#conditional statement\n",
        "a<b\n",
        "a>b\n",
        "a<=b\n",
        "a>=b\n",
        "a==b\n",
        "a!=b\n",
        "\n",
        "True and True\n",
        "False or True"
      ],
      "execution_count": null,
      "outputs": []
    },
    {
      "cell_type": "code",
      "metadata": {
        "id": "a2Z6ewSYx0GP"
      },
      "source": [
        "#if else\n",
        "if a<b:\n",
        "  print(\"a<b\")\n",
        "elif a>b:\n",
        "  print(\"a>b\")\n",
        "else:\n",
        "  print(\"a=b\")"
      ],
      "execution_count": null,
      "outputs": []
    },
    {
      "cell_type": "code",
      "metadata": {
        "colab": {
          "base_uri": "https://localhost:8080/"
        },
        "id": "VZbaHS3ayvIy",
        "outputId": "5a42901c-c0d4-485d-9abf-ea9168f46ced"
      },
      "source": [
        "#loop\n",
        "#for\n",
        "for i in range(3,10,2):# start from 3 to before 10, step 2\n",
        "  print(i)\n"
      ],
      "execution_count": null,
      "outputs": [
        {
          "output_type": "stream",
          "name": "stdout",
          "text": [
            "3\n",
            "5\n",
            "7\n",
            "9\n"
          ]
        }
      ]
    },
    {
      "cell_type": "code",
      "metadata": {
        "colab": {
          "base_uri": "https://localhost:8080/"
        },
        "id": "r2OXmw8x0WHh",
        "outputId": "c98922cc-1f01-459b-d0db-db86b9b53cc6"
      },
      "source": [
        "#while\n",
        "a=0\n",
        "while a<3:\n",
        "  print(\"a<20\")\n",
        "  a+=1"
      ],
      "execution_count": null,
      "outputs": [
        {
          "output_type": "stream",
          "name": "stdout",
          "text": [
            "a<20\n",
            "a<20\n",
            "a<20\n"
          ]
        }
      ]
    },
    {
      "cell_type": "code",
      "metadata": {
        "colab": {
          "base_uri": "https://localhost:8080/"
        },
        "id": "3r6agamE0_a0",
        "outputId": "ce866fa1-fa2c-451c-c9fa-bde67a5fed9a"
      },
      "source": [
        "while True:\n",
        "  umur=int(input())\n",
        "  if umur ==17:\n",
        "    continue\n",
        "  elif umur >=17:\n",
        "    break\n",
        "  print(\"under 17\")"
      ],
      "execution_count": null,
      "outputs": [
        {
          "name": "stdout",
          "output_type": "stream",
          "text": [
            "7\n",
            "under 17\n",
            "17\n",
            "18\n"
          ]
        }
      ]
    },
    {
      "cell_type": "code",
      "metadata": {
        "colab": {
          "base_uri": "https://localhost:8080/"
        },
        "id": "kx8rgInu1vhw",
        "outputId": "49536f9b-2c11-46cd-ab01-eb77779e66e7"
      },
      "source": [
        "list3=[1,2,3,4,5,6,7,8,9,0]\n",
        "for nilai in list3:\n",
        "  if nilai >6:\n",
        "    print(nilai)\n",
        "  else:\n",
        "    list3.remove(nilai)"
      ],
      "execution_count": null,
      "outputs": [
        {
          "output_type": "stream",
          "name": "stdout",
          "text": [
            "7\n",
            "8\n",
            "9\n"
          ]
        }
      ]
    },
    {
      "cell_type": "code",
      "metadata": {
        "colab": {
          "base_uri": "https://localhost:8080/"
        },
        "id": "d4iKgbne2PmJ",
        "outputId": "f751cc16-de6d-4e86-e561-d1250849e6b6"
      },
      "source": [
        "#for else\n",
        "for i in range(10):\n",
        "  print(i)\n",
        "  if i==8:\n",
        "    break\n",
        "else:\n",
        "  print(\"break not work\")"
      ],
      "execution_count": null,
      "outputs": [
        {
          "output_type": "stream",
          "name": "stdout",
          "text": [
            "0\n",
            "1\n",
            "2\n",
            "3\n",
            "4\n",
            "5\n",
            "6\n",
            "7\n",
            "8\n"
          ]
        }
      ]
    }
  ]
}