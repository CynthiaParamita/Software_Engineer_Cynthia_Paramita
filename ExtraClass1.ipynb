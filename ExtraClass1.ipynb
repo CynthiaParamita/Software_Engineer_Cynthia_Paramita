{
  "nbformat": 4,
  "nbformat_minor": 0,
  "metadata": {
    "colab": {
      "name": "ExtraClass1",
      "provenance": [],
      "collapsed_sections": [],
      "authorship_tag": "ABX9TyNY4TZICb2wzPjihfznskvz",
      "include_colab_link": true
    },
    "kernelspec": {
      "name": "python3",
      "display_name": "Python 3"
    },
    "language_info": {
      "name": "python"
    }
  },
  "cells": [
    {
      "cell_type": "markdown",
      "metadata": {
        "id": "view-in-github",
        "colab_type": "text"
      },
      "source": [
        "<a href=\"https://colab.research.google.com/github/CynthiaParamita/Software_Engineer_Cynthia_Paramita/blob/main/ExtraClass1.ipynb\" target=\"_parent\"><img src=\"https://colab.research.google.com/assets/colab-badge.svg\" alt=\"Open In Colab\"/></a>"
      ]
    },
    {
      "cell_type": "code",
      "metadata": {
        "id": "pK7CgxfqINod"
      },
      "source": [
        "# comment\n",
        "a = 10 # integer\n",
        "b = 3.17 # float\n",
        "c = \"abc\" # string\n",
        "d = True # bool\n",
        "e = False # bool\n",
        "h = [] # list\n",
        "g = {} #dictionary\n",
        "i = () # tuple"
      ],
      "execution_count": null,
      "outputs": []
    },
    {
      "cell_type": "code",
      "metadata": {
        "colab": {
          "base_uri": "https://localhost:8080/"
        },
        "id": "AZ-1NrdYKa_4",
        "outputId": "375ae08a-fe4b-49f1-94a3-cb48b657f859"
      },
      "source": [
        "# Print\n",
        "print ('hello')\n",
        "print (2+5)"
      ],
      "execution_count": null,
      "outputs": [
        {
          "output_type": "stream",
          "name": "stdout",
          "text": [
            "hello\n",
            "7\n"
          ]
        }
      ]
    },
    {
      "cell_type": "code",
      "metadata": {
        "colab": {
          "base_uri": "https://localhost:8080/"
        },
        "id": "J_XlaMnZLBYw",
        "outputId": "0ffe4952-86d3-4543-ae91-bd0310a38f56"
      },
      "source": [
        "print (a)\n",
        "print ('Hello '+c)\n",
        "print ('Hello {}'.format(a))\n",
        "print ('Hello '+str(a))"
      ],
      "execution_count": null,
      "outputs": [
        {
          "output_type": "stream",
          "name": "stdout",
          "text": [
            "10\n",
            "Hello abc\n",
            "Hello 10\n",
            "Hello 10\n"
          ]
        }
      ]
    },
    {
      "cell_type": "code",
      "metadata": {
        "colab": {
          "base_uri": "https://localhost:8080/"
        },
        "id": "TqrgipAiNFzx",
        "outputId": "7b4cc094-d035-4ece-d4a8-500de86ba060"
      },
      "source": [
        "print (\"1 {}, 2. {}, 3. {}\".format(a,b,c))"
      ],
      "execution_count": null,
      "outputs": [
        {
          "output_type": "stream",
          "name": "stdout",
          "text": [
            "1 10, 2. 3.17, 3. abc\n"
          ]
        }
      ]
    },
    {
      "cell_type": "code",
      "metadata": {
        "id": "Tmk37AETNcTs"
      },
      "source": [
        "Sekolah = [\"Cynthia\", 20, True, [\"a\",\"b\",\"c\"],{\"Buah\":\"apel\"}]"
      ],
      "execution_count": null,
      "outputs": []
    },
    {
      "cell_type": "code",
      "metadata": {
        "colab": {
          "base_uri": "https://localhost:8080/",
          "height": 35
        },
        "id": "pho5cKrDN5yW",
        "outputId": "bfaacb3e-3236-4ffc-b182-7ca3bd794007"
      },
      "source": [
        "Sekolah[3]\n",
        "Sekolah[3][0]"
      ],
      "execution_count": null,
      "outputs": [
        {
          "output_type": "execute_result",
          "data": {
            "application/vnd.google.colaboratory.intrinsic+json": {
              "type": "string"
            },
            "text/plain": [
              "'a'"
            ]
          },
          "metadata": {},
          "execution_count": 29
        }
      ]
    },
    {
      "cell_type": "code",
      "metadata": {
        "colab": {
          "base_uri": "https://localhost:8080/",
          "height": 35
        },
        "id": "el8Z2HNzOa4i",
        "outputId": "cdd143be-cfb9-4412-b634-c05da84207e7"
      },
      "source": [
        "Sekolah[-1][\"Buah\"]"
      ],
      "execution_count": null,
      "outputs": [
        {
          "output_type": "execute_result",
          "data": {
            "application/vnd.google.colaboratory.intrinsic+json": {
              "type": "string"
            },
            "text/plain": [
              "'apel'"
            ]
          },
          "metadata": {},
          "execution_count": 32
        }
      ]
    },
    {
      "cell_type": "code",
      "metadata": {
        "id": "A1TvEkDAPMLq"
      },
      "source": [
        "nama_siswa = [\"a\",\"b\",\"c\",\"d\",\"e\",\"f\",\"g\"]"
      ],
      "execution_count": null,
      "outputs": []
    },
    {
      "cell_type": "code",
      "metadata": {
        "colab": {
          "base_uri": "https://localhost:8080/"
        },
        "id": "-YoBAJKHXnLL",
        "outputId": "62a15ac4-2bbb-4b47-9dbf-ded3b87d0a52"
      },
      "source": [
        "nama_siswa[1:-1:3]"
      ],
      "execution_count": null,
      "outputs": [
        {
          "output_type": "execute_result",
          "data": {
            "text/plain": [
              "['b', 'e']"
            ]
          },
          "metadata": {},
          "execution_count": 50
        }
      ]
    },
    {
      "cell_type": "code",
      "metadata": {
        "colab": {
          "base_uri": "https://localhost:8080/"
        },
        "id": "WRCCwLIMPXKK",
        "outputId": "9f71cb67-5607-437d-e48c-78aaa2e630cc"
      },
      "source": [
        "nama_siswa[1:5:2]\n",
        "#list[awal index:setelah akhir index]"
      ],
      "execution_count": null,
      "outputs": [
        {
          "output_type": "execute_result",
          "data": {
            "text/plain": [
              "['b', 'd']"
            ]
          },
          "metadata": {},
          "execution_count": 46
        }
      ]
    },
    {
      "cell_type": "code",
      "metadata": {
        "id": "DqqJ8x4EQYNn"
      },
      "source": [
        "dict1 = {\"Buah\":\"Apple\",4:53,\"Bool\":\"False\"}"
      ],
      "execution_count": null,
      "outputs": []
    },
    {
      "cell_type": "code",
      "metadata": {
        "colab": {
          "base_uri": "https://localhost:8080/"
        },
        "id": "Dm1EFaB7QrI1",
        "outputId": "1c02fd38-28b7-431e-d441-7483eb65bb77"
      },
      "source": [
        "dict1[4]"
      ],
      "execution_count": null,
      "outputs": [
        {
          "output_type": "execute_result",
          "data": {
            "text/plain": [
              "53"
            ]
          },
          "metadata": {},
          "execution_count": 45
        }
      ]
    },
    {
      "cell_type": "code",
      "metadata": {
        "colab": {
          "base_uri": "https://localhost:8080/"
        },
        "id": "3D-CyVGvWZKg",
        "outputId": "a4923070-1d0b-4451-9225-8898afd331ef"
      },
      "source": [
        "print (\"Nama siswa ke 4 {}\".format(nama_siswa[3]))"
      ],
      "execution_count": null,
      "outputs": [
        {
          "output_type": "stream",
          "name": "stdout",
          "text": [
            "Nama siswa ke 4 d\n"
          ]
        }
      ]
    },
    {
      "cell_type": "code",
      "metadata": {
        "id": "kBFtTFW8ZCoF",
        "colab": {
          "base_uri": "https://localhost:8080/"
        },
        "outputId": "2931d954-6f68-4831-cf8d-ac3713ebb8d7"
      },
      "source": [
        "nama_siswa[-2:]"
      ],
      "execution_count": null,
      "outputs": [
        {
          "output_type": "execute_result",
          "data": {
            "text/plain": [
              "['f', 'g']"
            ]
          },
          "metadata": {},
          "execution_count": 51
        }
      ]
    }
  ]
}