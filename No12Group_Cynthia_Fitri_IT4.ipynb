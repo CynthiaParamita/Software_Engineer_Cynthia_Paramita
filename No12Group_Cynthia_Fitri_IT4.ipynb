{
  "nbformat": 4,
  "nbformat_minor": 0,
  "metadata": {
    "colab": {
      "name": "No12Group_Cynthia_Fitri_IT4.ipynb",
      "provenance": [],
      "collapsed_sections": [],
      "include_colab_link": true
    },
    "kernelspec": {
      "name": "python3",
      "display_name": "Python 3"
    },
    "language_info": {
      "name": "python"
    }
  },
  "cells": [
    {
      "cell_type": "markdown",
      "metadata": {
        "id": "view-in-github",
        "colab_type": "text"
      },
      "source": [
        "<a href=\"https://colab.research.google.com/github/CynthiaParamita/Software_Engineering_Cynthia_Paramita/blob/main/No12Group_Cynthia_Fitri_IT4.ipynb\" target=\"_parent\"><img src=\"https://colab.research.google.com/assets/colab-badge.svg\" alt=\"Open In Colab\"/></a>"
      ]
    },
    {
      "cell_type": "code",
      "metadata": {
        "colab": {
          "base_uri": "https://localhost:8080/"
        },
        "id": "frYkw_uPyvfO",
        "outputId": "f7f8aefd-9642-4ff8-f06c-ff7e955071e9"
      },
      "source": [
        "# Cynthia\n",
        "# Fitri\n",
        "# IT 4\n",
        "print(\"Pilih jenis Bensin (1.Premium, 2.Pertalite, 3.Pertamax, 4.Diesel) 0.Stop\")\n",
        "a = b = c = d = 0\n",
        "while True:\n",
        "  B = int(input())\n",
        "  if B == 1:\n",
        "    a = a+1\n",
        "  elif B == 2:\n",
        "    b = b+1\n",
        "  elif B == 3:\n",
        "    c = c+1\n",
        "  elif B == 4:\n",
        "    d = d+1\n",
        "  elif B == 0:\n",
        "    break\n",
        "print(\"Output : \")\n",
        "print(\"Premium: {}\".format(a))\n",
        "print(\"Pertalite: {}\".format(b))\n",
        "print(\"Pertamax: {}\".format(c))\n",
        "print(\"Diesel: {}\".format(d))"
      ],
      "execution_count": null,
      "outputs": [
        {
          "output_type": "stream",
          "name": "stdout",
          "text": [
            "Pilih jenis Bensin (1.Premium, 2.Pertalite, 3.Pertamax, 4.Diesel), 0.Stop\n",
            "1\n",
            "1\n",
            "1\n",
            "2\n",
            "4\n",
            "0\n",
            "Jenis Bensin : \n",
            "1. Premium : 3\n",
            "2. Pertalite : 1\n",
            "3. Pertamax : 0\n",
            "4. Diesel : 1\n"
          ]
        }
      ]
    }
  ]
}